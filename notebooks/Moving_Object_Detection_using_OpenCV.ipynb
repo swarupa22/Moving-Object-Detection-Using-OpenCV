{
  "cells": [
    {
      "cell_type": "code",
      "execution_count": null,
      "metadata": {
        "colab": {
          "base_uri": "https://localhost:8080/",
          "height": 13754
        },
        "id": "52lgtOek9jnS",
        "outputId": "7058b58a-50aa-4954-b19c-553054f6f8c3"
      },
      "outputs": [],
      "source": [
        "#Import necessary libraries\n",
        "from google.colab.patches import cv2_imshow\n",
        "import imutils\n",
        "import time\n",
        "import cv2\n",
        "# Open the video file\n",
        "vs = cv2.VideoCapture('video.mp4')\n",
        "time.sleep(1)\n",
        "#Initialize variables\n",
        "count=0\n",
        "firstFrame=None\n",
        "area = 500\n",
        "#Loop through each frame \n",
        "while True: \n",
        "    ret, frame = vs.read()\n",
        "    text = \"Normal\"\n",
        "    img = imutils.resize(frame)\n",
        "    grayImg = cv2.cvtColor(img, cv2.COLOR_BGR2GRAY)\n",
        "    gaussianImg = cv2.GaussianBlur(grayImg, (21, 21), 0)\n",
        "#Check condition\n",
        "    if firstFrame is None:\n",
        "            firstFrame = gaussianImg\n",
        "            continue\n",
        "#Calculate absolute difference,threshold,dilation\n",
        "    imgDiff = cv2.absdiff(firstFrame, gaussianImg)\n",
        "    threshImg = cv2.threshold(imgDiff, 25, 255, cv2.THRESH_BINARY)[1]\n",
        "    threshImg = cv2.dilate(threshImg, None, iterations=2)\n",
        "#Identifying Contours\n",
        "    cnts = cv2.findContours(threshImg.copy(), cv2.RETR_EXTERNAL,\n",
        "            cv2.CHAIN_APPROX_SIMPLE)\n",
        "    cnts = imutils.grab_contours(cnts)\n",
        "#Loop iterates over each contour\n",
        "    for c in cnts:\n",
        "            if cv2.contourArea(c) < area:\n",
        "                    continue\n",
        "            (x, y, w, h) = cv2.boundingRect(c)\n",
        "            cv2.rectangle(img, (x, y), (x + w, y + h), (0, 255, 0), 2)\n",
        "            count+=1\n",
        "            text = \"Moving Object detected\"\n",
        "    print(text,\":\",count)\n",
        "#Add text to image\n",
        "    cv2.putText(img, text, (10, 20),\n",
        "            cv2.FONT_HERSHEY_SIMPLEX, 0.5, (0, 0, 255), 2)\n",
        "    cv2_imshow(img)\n",
        "    key = cv2.waitKey(1) & 0xFF\n",
        "    if key == ord(\"q\"):\n",
        "        break\n",
        "\n",
        "vs.release()\n",
        "cv2.destroyAllWindows()  "
      ]
    }
  ],
  "metadata": {
    "colab": {
      "provenance": []
    },
    "kernelspec": {
      "display_name": "Python 3",
      "name": "python3"
    },
    "language_info": {
      "name": "python"
    }
  },
  "nbformat": 4,
  "nbformat_minor": 0
}
